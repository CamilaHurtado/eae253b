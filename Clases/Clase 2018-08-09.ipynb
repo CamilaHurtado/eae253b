{
 "cells": [
  {
   "cell_type": "markdown",
   "metadata": {},
   "source": [
    "# 2018-08-09 (Jueves)\n",
    "\n",
    "### Ayudantía Martes 14 (miércoles feriado)\n",
    "### Tarea 2 (jueves 30 de agosto)\n",
    "### Dudas Anaconda, Git(Hub), Kattis\n",
    "### Ejemplos Proyectos\n",
    "### Guia (opcional) \n",
    "\n",
    "http://runest.ing.puc.cl/\n",
    "\n",
    "---\n",
    "\n",
    "\n",
    "## Elementos básicos de programación\n",
    "\n",
    "### Primer programa"
   ]
  },
  {
   "cell_type": "code",
   "execution_count": null,
   "metadata": {
    "collapsed": true
   },
   "outputs": [],
   "source": [
    "print('Hello world!')"
   ]
  },
  {
   "cell_type": "markdown",
   "metadata": {},
   "source": [
    "Notas: apóstrofe (') y comillas (\") se pueden usar indistintamente en casi cualquier contexto en Python. También es común usar triple apóstrofe o triple comillas para strings largos"
   ]
  },
  {
   "cell_type": "code",
   "execution_count": null,
   "metadata": {
    "collapsed": true
   },
   "outputs": [],
   "source": [
    "print(\"Hello world!\")"
   ]
  },
  {
   "cell_type": "code",
   "execution_count": null,
   "metadata": {
    "collapsed": true
   },
   "outputs": [],
   "source": [
    "print(\"\"\"    este es un string largo\n",
    "    \n",
    "                    ok\n",
    "\"\"\")"
   ]
  },
  {
   "cell_type": "code",
   "execution_count": null,
   "metadata": {
    "collapsed": true
   },
   "outputs": [],
   "source": [
    "print(' este es otro \\\n",
    "    string \\\n",
    "          largo \\\n",
    "      ')"
   ]
  },
  {
   "cell_type": "code",
   "execution_count": null,
   "metadata": {
    "collapsed": true
   },
   "outputs": [],
   "source": [
    "print('aqui', 'imprimo', 'mucho', 'texto', sep='%', end='')\n",
    "print('pegado', end='')\n",
    "print('pero aca me salto')\n",
    "print('una linea')"
   ]
  },
  {
   "cell_type": "code",
   "execution_count": null,
   "metadata": {
    "collapsed": true
   },
   "outputs": [],
   "source": [
    "help(print)"
   ]
  },
  {
   "cell_type": "code",
   "execution_count": null,
   "metadata": {
    "collapsed": true
   },
   "outputs": [],
   "source": [
    "file_out = open('hola.txt', 'w')\n",
    "\n",
    "print('sdfsdfsdf asdfs fsd', file=file_out)\n",
    "\n",
    "file_out.close()"
   ]
  },
  {
   "cell_type": "markdown",
   "metadata": {},
   "source": [
    "### Variables, tipos de datos, expresiones y control de flujo 1\n",
    "\n",
    "##### Variables\n",
    "Python, como muchos otros lenguajes de programación, nos permite **asignar** datos o valores a entidades llamadas \"variables\", dándole así un nombre al dato o valor de interés. Por ejemplo:\n",
    "\n"
   ]
  },
  {
   "cell_type": "code",
   "execution_count": null,
   "metadata": {
    "collapsed": true
   },
   "outputs": [],
   "source": [
    "a = 2\n",
    "\n",
    "print(a)"
   ]
  },
  {
   "cell_type": "code",
   "execution_count": null,
   "metadata": {
    "collapsed": true
   },
   "outputs": [],
   "source": [
    "a + 3"
   ]
  },
  {
   "cell_type": "code",
   "execution_count": null,
   "metadata": {
    "collapsed": true
   },
   "outputs": [],
   "source": [
    "_"
   ]
  },
  {
   "cell_type": "markdown",
   "metadata": {},
   "source": [
    "##### Tipos de datos\n",
    "Los tipos de datos básicos que encontramos en Python son:\n",
    "\n",
    "- números (int o float)\n",
    "- texto (str)\n",
    "- booleanos (True o False)\n",
    "- nada (None)\n"
   ]
  },
  {
   "cell_type": "code",
   "execution_count": null,
   "metadata": {
    "collapsed": true
   },
   "outputs": [],
   "source": [
    "a = 2\n",
    "b = 'texto 1'\n",
    "c = \"texto 2\"\n",
    "print(b + c)\n",
    "\n",
    "print(a == 2)\n",
    "\n",
    "z = a == 2\n",
    "print(z)"
   ]
  },
  {
   "cell_type": "code",
   "execution_count": null,
   "metadata": {
    "collapsed": true
   },
   "outputs": [],
   "source": [
    "print(0.5 == 1 - 0.5)"
   ]
  },
  {
   "cell_type": "markdown",
   "metadata": {},
   "source": [
    "*Importante tener en mente posibles problemas derivados de la precisión computacional...*"
   ]
  },
  {
   "cell_type": "code",
   "execution_count": null,
   "metadata": {
    "collapsed": true
   },
   "outputs": [],
   "source": [
    "print(0.1 == 1 - 0.9)"
   ]
  },
  {
   "cell_type": "code",
   "execution_count": null,
   "metadata": {
    "collapsed": true
   },
   "outputs": [],
   "source": [
    "eval(\"1-0.9\")"
   ]
  },
  {
   "cell_type": "code",
   "execution_count": null,
   "metadata": {
    "collapsed": true
   },
   "outputs": [],
   "source": [
    "import sys\n",
    "sys.float_info"
   ]
  },
  {
   "cell_type": "markdown",
   "metadata": {},
   "source": [
    "##### Algunas funciones útiles\n",
    "\n",
    "- type()\n",
    "- dir()\n",
    "- %whos\n"
   ]
  },
  {
   "cell_type": "code",
   "execution_count": null,
   "metadata": {
    "collapsed": true
   },
   "outputs": [],
   "source": [
    "%whos"
   ]
  },
  {
   "cell_type": "code",
   "execution_count": null,
   "metadata": {
    "collapsed": true
   },
   "outputs": [],
   "source": [
    "print(format(1000.2*10 - 1000*10, '.60g'))"
   ]
  },
  {
   "cell_type": "code",
   "execution_count": null,
   "metadata": {
    "collapsed": true
   },
   "outputs": [],
   "source": [
    "type(1000.2*10)"
   ]
  },
  {
   "cell_type": "code",
   "execution_count": null,
   "metadata": {
    "collapsed": true
   },
   "outputs": [],
   "source": [
    "type(0.1)"
   ]
  },
  {
   "cell_type": "code",
   "execution_count": null,
   "metadata": {
    "collapsed": true
   },
   "outputs": [],
   "source": [
    "type(1-0.9)"
   ]
  },
  {
   "cell_type": "code",
   "execution_count": null,
   "metadata": {
    "collapsed": true
   },
   "outputs": [],
   "source": [
    "format(0.1, '.30g')  # give 30 significant digits"
   ]
  },
  {
   "cell_type": "code",
   "execution_count": null,
   "metadata": {
    "collapsed": true
   },
   "outputs": [],
   "source": [
    "format(1-0.9, '.30g')  # give 30 significant digits"
   ]
  },
  {
   "cell_type": "code",
   "execution_count": null,
   "metadata": {
    "collapsed": true
   },
   "outputs": [],
   "source": [
    "import sys\n",
    "help(sys)"
   ]
  },
  {
   "cell_type": "markdown",
   "metadata": {},
   "source": [
    "##### Expresiones"
   ]
  },
  {
   "cell_type": "markdown",
   "metadata": {},
   "source": [
    "- Operaciones matemáticas usuales: +, -, *, /\n",
    "- Otras operaciones matematicas: // (division de enteros),  % (modulo), ** exponente\n",
    "- Operadores relacionales: >, <, >=, <=, ==, !=\n",
    "- Otros operadores de comparacion: \"is\" y \"is not\"\n",
    "- Operadores logicos: \"and\", \"or\", \"not\"\n",
    "- Operadores de membresía: \"in\", \"not in\"\n",
    "\n",
    "--> Importancia expresiones booleanas: se usan con fines de \"control\" del codigo (proxima clase)"
   ]
  },
  {
   "cell_type": "code",
   "execution_count": null,
   "metadata": {
    "collapsed": true
   },
   "outputs": [],
   "source": [
    "3 + 2"
   ]
  },
  {
   "cell_type": "code",
   "execution_count": null,
   "metadata": {
    "collapsed": true
   },
   "outputs": [],
   "source": [
    "4 // 3"
   ]
  },
  {
   "cell_type": "code",
   "execution_count": null,
   "metadata": {
    "collapsed": true
   },
   "outputs": [],
   "source": [
    "2 % 2"
   ]
  },
  {
   "cell_type": "code",
   "execution_count": null,
   "metadata": {
    "collapsed": true
   },
   "outputs": [],
   "source": [
    "3 ** 2"
   ]
  },
  {
   "cell_type": "markdown",
   "metadata": {},
   "source": [
    "##### Control de flujo. If, elif, else\n",
    "\n",
    "Aqui se empieza a poner un poco más entretenida la programación, ya que podemos instruir al computador que evalue ciertos escenarios y realice operaciones de manera condicional:\n"
   ]
  },
  {
   "cell_type": "code",
   "execution_count": null,
   "metadata": {
    "collapsed": true
   },
   "outputs": [],
   "source": [
    "numero = 8\n",
    "\n",
    "if numero % 2 == 0:\n",
    "    print('numero es par')\n",
    "else:\n",
    "    print('numero es impar')"
   ]
  },
  {
   "cell_type": "code",
   "execution_count": null,
   "metadata": {
    "collapsed": true
   },
   "outputs": [],
   "source": [
    "coeficiente = 1.3\n",
    "\n",
    "if coeficiente >= 2:\n",
    "    print('coeficiente es significativo e igual a {}'.format(coeficiente))"
   ]
  },
  {
   "cell_type": "markdown",
   "metadata": {},
   "source": [
    "*if/elif* funciona de forma secuencial, ejecutando el codigo de la primera condicion verdadera:"
   ]
  },
  {
   "cell_type": "code",
   "execution_count": null,
   "metadata": {
    "collapsed": true
   },
   "outputs": [],
   "source": [
    "coeficiente = 8\n",
    "\n",
    "if coeficiente >= 2:\n",
    "    print('coeficiente es significativo e igual a {}'.format(coeficiente))\n",
    "elif coeficiente >= 3:\n",
    "    print('coeficiente es muy significativo e igual a {}'.format(coeficiente))"
   ]
  },
  {
   "cell_type": "markdown",
   "metadata": {},
   "source": [
    "Es importante ser lo más comprensivo posible con la evaluación de condiciones... una mala gestión de dichas condiciones puede llevar a errores"
   ]
  },
  {
   "cell_type": "code",
   "execution_count": null,
   "metadata": {
    "collapsed": true
   },
   "outputs": [],
   "source": [
    "t_stat = 2\n",
    "\n",
    "if t_stat > 2: \n",
    "    print('significativo')\n",
    "elif t_stat < 2: \n",
    "    print('no significativo')"
   ]
  },
  {
   "cell_type": "markdown",
   "metadata": {},
   "source": [
    "Una buena práctica es siempre hacerse cargo explicitamente de todas las opciones posibles. Existe 1 excepción a esta regla, la veremos cuando aprendamos más sobre funciones."
   ]
  },
  {
   "cell_type": "markdown",
   "metadata": {},
   "source": [
    "### Operaciones básicas sobre strings\n",
    "\n",
    "Estas son algunas funciones básicas (\"métodos\") que podemos realizar sobre strings (en el transcurso del curso veremos más):"
   ]
  },
  {
   "cell_type": "code",
   "execution_count": 5,
   "metadata": {
    "collapsed": false
   },
   "outputs": [
    {
     "name": "stdout",
     "output_type": "stream",
     "text": [
      "HOLA COMO ESTAS?\n",
      "hola como estas?\n",
      "Hola cómo estas?\n"
     ]
    }
   ],
   "source": [
    "texto = 'Hola como estas?'\n",
    "\n",
    "#convertir a mayusculas\n",
    "print(texto.upper())\n",
    "\n",
    "#convertir a minusculas\n",
    "print(texto.lower())\n",
    "\n",
    "#reemplazar\n",
    "print(texto.replace('como', 'cómo'))"
   ]
  },
  {
   "cell_type": "code",
   "execution_count": 8,
   "metadata": {
    "collapsed": false
   },
   "outputs": [
    {
     "name": "stdout",
     "output_type": "stream",
     "text": [
      "False\n",
      "True\n",
      "2\n",
      "juan y diego \n",
      "salieron al campo\n",
      "\n",
      "maria y lucia \n",
      "salieron al campo\n",
      "\n"
     ]
    }
   ],
   "source": [
    "#comienza con?\n",
    "print(texto.startswith(\"Hello\"))\n",
    "\n",
    "#termina con?\n",
    "print(texto.endswith(\"?\"))\n",
    "\n",
    "#buscar caracteres\n",
    "print(texto.index('la'))\n",
    "\n",
    "#formatear texto\n",
    "texto_base = '{} y {} \\nsalieron al campo\\n'\n",
    "\n",
    "print(texto_base.format('juan', 'diego'))\n",
    "print(texto_base.format('maria', 'lucia'))\n",
    "\n"
   ]
  },
  {
   "cell_type": "code",
   "execution_count": 11,
   "metadata": {
    "collapsed": false
   },
   "outputs": [
    {
     "name": "stdout",
     "output_type": "stream",
     "text": [
      "['{}', 'y', '{}', 'salieron', 'al', 'campo']\n",
      "['juan', 'y', 'diego', 'salieron', 'al', 'campo']\n"
     ]
    }
   ],
   "source": [
    "#dividir texto (listas --> proxima clase)\n",
    "\n",
    "print(texto_base.split())\n",
    "print(texto_base.format('juan', 'diego').split())\n"
   ]
  },
  {
   "cell_type": "markdown",
   "metadata": {},
   "source": [
    "Acá hay una lista más completa de todos los \"metodos\" que tiene el tipo de datos \"string\", y otras funciones adicionales que podemos aplicar a strings.\n",
    "\n",
    "https://www.programiz.com/python-programming/methods/string\n"
   ]
  },
  {
   "cell_type": "markdown",
   "metadata": {},
   "source": [
    "### Interpretador de Python y otras formas de usar Python\n",
    "\n",
    "Existen básicamente 3 formas de ejecutar comandos de Python:\n",
    "\n",
    "1. Desde Jupyter Notebook\n",
    "1. Desde ipython (interpretador de Python.. como una calculadora)\n",
    "1. Desde el terminal (Anaconda Prompt)\n",
    "\n",
    "*También se pueden ejecutar rutinas en Python desde otros programas, o automáticamente desde algún programador de tareas.*"
   ]
  },
  {
   "cell_type": "markdown",
   "metadata": {},
   "source": [
    "### Algo más práctico... Operaciones Input/Output 1: leer desde archivo \"plano\""
   ]
  },
  {
   "cell_type": "code",
   "execution_count": null,
   "metadata": {
    "collapsed": true
   },
   "outputs": [],
   "source": [
    "file = open('datosuf.txt', 'r')\n",
    "\n",
    "names = file.readline()\n",
    "print(names)\n",
    "    \n",
    "for line in file:\n",
    "    print(line)\n",
    "\n",
    "    #ojo con caracteres especiales\n",
    "    #print(repr(line))\n",
    "\n",
    "    #cada linea es un string, de largo X\n",
    "#   print(type(line), print(len(line))\n",
    "\n",
    "#    print(repr(line), '-->', parse_line(line))"
   ]
  },
  {
   "cell_type": "code",
   "execution_count": null,
   "metadata": {
    "collapsed": true
   },
   "outputs": [],
   "source": [
    "def parse_line(line):\n",
    "    'funcion para extraer informacion de una linea de texto, de archivo \"datosuf.txt\"'\n",
    "    rawdata = [item.strip() for item in line.split()]\n",
    "    \n",
    "    #descompone info en partes\n",
    "    mes = rawdata[0][:3]\n",
    "    anio = int(rawdata[0][4:8])\n",
    "    valor = float(rawdata[1].replace('.', '').replace(',', '.'))\n",
    "    \n",
    "    #guarda info importante\n",
    "    data = (mes , anio, valor)\n",
    "    return data"
   ]
  },
  {
   "cell_type": "markdown",
   "metadata": {},
   "source": [
    "**Ahora, con los datos ordenados, podriamos graficarlos...**"
   ]
  },
  {
   "cell_type": "code",
   "execution_count": null,
   "metadata": {
    "collapsed": true
   },
   "outputs": [],
   "source": [
    "#1. carga librería de graficos\n",
    "import matplotlib.pyplot as plt\n",
    "\n",
    "#2. carga datos\n",
    "file = open('datosuf.txt', 'r')\n",
    "\n",
    "names = file.readline()\n",
    "datos_uf = []\n",
    "for line in file:\n",
    "    mes, anio, valor = parse_line(line)\n",
    "    datos_uf.append(valor)\n",
    "\n",
    "#3. grafica\n",
    "plt.plot(datos_uf)\n",
    "plt.ylabel('valor UF')\n",
    "plt.show()"
   ]
  }
 ],
 "metadata": {
  "anaconda-cloud": {},
  "kernelspec": {
   "display_name": "Python [default]",
   "language": "python",
   "name": "python3"
  },
  "language_info": {
   "codemirror_mode": {
    "name": "ipython",
    "version": 3
   },
   "file_extension": ".py",
   "mimetype": "text/x-python",
   "name": "python",
   "nbconvert_exporter": "python",
   "pygments_lexer": "ipython3",
   "version": "3.5.5"
  }
 },
 "nbformat": 4,
 "nbformat_minor": 2
}
