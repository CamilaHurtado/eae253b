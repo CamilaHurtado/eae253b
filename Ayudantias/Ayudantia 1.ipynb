{
 "cells": [
  {
   "cell_type": "markdown",
   "metadata": {},
   "source": [
    "### Ayudantía 1"
   ]
  },
  {
   "cell_type": "markdown",
   "metadata": {},
   "source": [
    "## Parte 1. Instalación software\n",
    "### Anaconda.\n",
    "\n",
    "Es una \"distribución\" de Python creada con fines educativos. El objetivo de Anaconda es simplificar la instalación de Python y las librerías más relevantes para el análisis de datos, permitiendo que los usuarios puedan interactuar lo más rápido posible con el código y las librerías, sin preocuparse de detalles de la instalación de Python, la creación de ambientes, etc.\n",
    "\n",
    "https://www.anaconda.com/download/ --> **Descargar versión con Python 3.6**\n",
    "\n",
    "\n",
    "### Jupyter Notebook.\n",
    "\n",
    "Es una aplicación que viene incorporada al instalar Anaconda, que entrega una interfaz gráfica (GUI) a Python, haciendo más amigable escribir nuestras primeras rutinas. Esta aplicación permite el uso de otros lenguajes como Julia o R (JuPyteR). Además, podemos usar \"celdas\" especiales con lenguaje \"Markdown\", lo que enriquece documentación relacionada a los códigos que se están escribiendo.\n",
    "    \n",
    "Guias Markdown:\n",
    "\n",
    "https://medium.com/ibm-data-science-experience/markdown-for-jupyter-notebooks-cheatsheet-386c05aeebed  \n",
    "https://help.github.com/articles/basic-writing-and-formatting-syntax/#links\n",
    "    \n",
    "### Anaconda Prompt.\n",
    "\n",
    "Es una aplicación que, para el próposito de este curso, nos permite acceder a herramientas \"administrativas\" de Anaconda, por ejemplo, para instalar nuevas librerías de Python, nuevas librerías \"genericas\" como Git, y también para utilizar Git en modalidad \"línea de comandos\".\n",
    "\n"
   ]
  },
  {
   "cell_type": "markdown",
   "metadata": {},
   "source": [
    "## Parte 2. Cuentas\n",
    "\n",
    "### Github\n",
    "##### Git\n",
    "Git es un sistema de control de versión (VCS) que utilizaremos para entregar tareas y compartir códigos para el proyecto. Es una especie de \"Dropbox\" avanzado, pero pensado principalmente para códigos.\n",
    "\n",
    "El caso de uso más \"común\" de Git en esta clase será sincronizar nuestros códigos (en nuestro computador personal), con el mismo código en otros computadores personales que tengamos, y con el servicio GitHub (servicio web de almacenamiento de repositorios).\n",
    "\n",
    "\n",
    "https://github.com/\n",
    "\n",
    "##### GitHub\n",
    "GitHub es un servicio de \"hosting\" que permite almacenar códigos en la nube (\"repositorios\"). \n",
    "\n",
    "Para interactuar con GitHub se pueden usar muchas herramientas; en este curso usaremos principalmente la línea de comandos de Git.\n",
    "\n",
    "\n",
    "### Kattis\n",
    "    \n",
    "Kattis es un sitio web que permite practicar técnicas de programación. Pone a disposición de cualquier persona una gran cantidad de problemas, y permite que los usuarios suban propuestas de soluciones, las cuales son evaluadas automáticamente por la aplicación.\n",
    "\n",
    "Las tareas 2 y 3 contendrán ejercicios de Kattis, cuyas soluciones deben ser aceptadas por la plataforma para obtener el máximo puntaje.\n",
    "\n",
    "https://open.kattis.com/\n",
    "\n"
   ]
  }
 ],
 "metadata": {
  "kernelspec": {
   "display_name": "Python 3",
   "language": "python",
   "name": "python3"
  },
  "language_info": {
   "codemirror_mode": {
    "name": "ipython",
    "version": 3
   },
   "file_extension": ".py",
   "mimetype": "text/x-python",
   "name": "python",
   "nbconvert_exporter": "python",
   "pygments_lexer": "ipython3",
   "version": "3.6.3"
  }
 },
 "nbformat": 4,
 "nbformat_minor": 2
}
